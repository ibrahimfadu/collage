{
 "cells": [
  {
   "cell_type": "code",
   "execution_count": 4,
   "id": "f3c6329c-488f-4927-aa33-214f6219ca04",
   "metadata": {},
   "outputs": [
    {
     "name": "stdout",
     "output_type": "stream",
     "text": [
      "[5, 10, 30, 50, 60, 72]\n"
     ]
    }
   ],
   "source": [
    "#Bubble Sort\n",
    "def BubbleSort(a):\n",
    "    n=len(a)\n",
    "    for i in range(n):\n",
    "        for j in range(n-1):\n",
    "            if a[j]>a[j+1]:\n",
    "                temp=a[j]\n",
    "                a[j]=a[j+1]\n",
    "                a[j+1]=temp\n",
    "a=[10,50,30,60,72,5]\n",
    "var=BubbleSort(a)\n",
    "print(a)"
   ]
  },
  {
   "cell_type": "code",
   "execution_count": null,
   "id": "c46df12a-694e-40b0-ab18-0992c33d54c4",
   "metadata": {},
   "outputs": [],
   "source": [
    "#Selection Sort \n",
    "def SelectionSort(a):\n",
    "    n=len(a)\n",
    "    for i in range(0,n-1):\n",
    "        min=i\n",
    "        for j in range()"
   ]
  }
 ],
 "metadata": {
  "kernelspec": {
   "display_name": "Python 3 (ipykernel)",
   "language": "python",
   "name": "python3"
  },
  "language_info": {
   "codemirror_mode": {
    "name": "ipython",
    "version": 3
   },
   "file_extension": ".py",
   "mimetype": "text/x-python",
   "name": "python",
   "nbconvert_exporter": "python",
   "pygments_lexer": "ipython3",
   "version": "3.11.7"
  }
 },
 "nbformat": 4,
 "nbformat_minor": 5
}
