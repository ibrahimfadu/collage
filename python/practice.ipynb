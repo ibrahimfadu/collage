{
 "cells": [
  {
   "cell_type": "code",
   "execution_count": 4,
   "id": "f3c6329c-488f-4927-aa33-214f6219ca04",
   "metadata": {},
   "outputs": [
    {
     "name": "stdout",
     "output_type": "stream",
     "text": [
      "[5, 10, 30, 50, 60, 72]\n"
     ]
    }
   ],
   "source": [
    "#Bubble Sort\n",
    "def BubbleSort(a):\n",
    "    n=len(a)\n",
    "    for i in range(n):\n",
    "        for j in range(n-1):\n",
    "            if a[j]>a[j+1]:\n",
    "                temp=a[j]\n",
    "                a[j]=a[j+1]\n",
    "                a[j+1]=temp\n",
    "a=[10,50,30,60,72,5]\n",
    "var=BubbleSort(a)\n",
    "print(a)"
   ]
  },
  {
   "cell_type": "code",
   "execution_count": 2,
   "id": "c46df12a-694e-40b0-ab18-0992c33d54c4",
   "metadata": {},
   "outputs": [],
   "source": [
    "#Selection Sort \n",
    "def SelectionSort(a):\n",
    "    n=len(a)\n",
    "    for i in range(0,n-1):\n",
    "        min=i\n",
    "        for j in range():\n",
    "            pass\n",
    "            "
   ]
  },
  {
   "cell_type": "code",
   "execution_count": 12,
   "id": "676298c5-caa0-49b8-a7fb-b175c6f93db4",
   "metadata": {},
   "outputs": [
    {
     "name": "stdout",
     "output_type": "stream",
     "text": [
      "Welcome\n"
     ]
    },
    {
     "name": "stdin",
     "output_type": "stream",
     "text": [
      "You : hii\n"
     ]
    },
    {
     "name": "stdout",
     "output_type": "stream",
     "text": [
      "Hello!\n",
      "Welcome\n"
     ]
    },
    {
     "name": "stdin",
     "output_type": "stream",
     "text": [
      "You : bey\n"
     ]
    },
    {
     "name": "stdout",
     "output_type": "stream",
     "text": [
      "Hello!\n",
      "Welcome\n"
     ]
    },
    {
     "name": "stdin",
     "output_type": "stream",
     "text": [
      "You : adjfalkdff\n"
     ]
    },
    {
     "name": "stdout",
     "output_type": "stream",
     "text": [
      "Hello!\n",
      "Welcome\n"
     ]
    },
    {
     "name": "stdin",
     "output_type": "stream",
     "text": [
      "You : as;dlfja;kdjfa\n"
     ]
    },
    {
     "name": "stdout",
     "output_type": "stream",
     "text": [
      "Hii! Nice to see you\n",
      "Welcome\n"
     ]
    },
    {
     "ename": "KeyboardInterrupt",
     "evalue": "Interrupted by user",
     "output_type": "error",
     "traceback": [
      "\u001b[0;31m---------------------------------------------------------------------------\u001b[0m",
      "\u001b[0;31mKeyboardInterrupt\u001b[0m                         Traceback (most recent call last)",
      "Cell \u001b[0;32mIn[12], line 9\u001b[0m\n\u001b[1;32m      7\u001b[0m \u001b[38;5;28;01mwhile\u001b[39;00m \u001b[38;5;28;01mTrue\u001b[39;00m:\n\u001b[1;32m      8\u001b[0m     \u001b[38;5;28mprint\u001b[39m(\u001b[38;5;124m\"\u001b[39m\u001b[38;5;124mWelcome\u001b[39m\u001b[38;5;124m\"\u001b[39m)\n\u001b[0;32m----> 9\u001b[0m     user_input\u001b[38;5;241m=\u001b[39m\u001b[38;5;28minput\u001b[39m(\u001b[38;5;124m\"\u001b[39m\u001b[38;5;124mYou :\u001b[39m\u001b[38;5;124m\"\u001b[39m)\u001b[38;5;241m.\u001b[39mlower()\n\u001b[1;32m     10\u001b[0m     \u001b[38;5;28mprint\u001b[39m(random\u001b[38;5;241m.\u001b[39mchoice(response))\n\u001b[1;32m     12\u001b[0m \u001b[38;5;28;01mif\u001b[39;00m \u001b[38;5;18m__name__\u001b[39m\u001b[38;5;241m==\u001b[39m\u001b[38;5;124m\"\u001b[39m\u001b[38;5;124m__main__\u001b[39m\u001b[38;5;124m\"\u001b[39m:\n",
      "File \u001b[0;32m~/anaconda3/lib/python3.11/site-packages/ipykernel/kernelbase.py:1262\u001b[0m, in \u001b[0;36mKernel.raw_input\u001b[0;34m(self, prompt)\u001b[0m\n\u001b[1;32m   1260\u001b[0m     msg \u001b[38;5;241m=\u001b[39m \u001b[38;5;124m\"\u001b[39m\u001b[38;5;124mraw_input was called, but this frontend does not support input requests.\u001b[39m\u001b[38;5;124m\"\u001b[39m\n\u001b[1;32m   1261\u001b[0m     \u001b[38;5;28;01mraise\u001b[39;00m StdinNotImplementedError(msg)\n\u001b[0;32m-> 1262\u001b[0m \u001b[38;5;28;01mreturn\u001b[39;00m \u001b[38;5;28mself\u001b[39m\u001b[38;5;241m.\u001b[39m_input_request(\n\u001b[1;32m   1263\u001b[0m     \u001b[38;5;28mstr\u001b[39m(prompt),\n\u001b[1;32m   1264\u001b[0m     \u001b[38;5;28mself\u001b[39m\u001b[38;5;241m.\u001b[39m_parent_ident[\u001b[38;5;124m\"\u001b[39m\u001b[38;5;124mshell\u001b[39m\u001b[38;5;124m\"\u001b[39m],\n\u001b[1;32m   1265\u001b[0m     \u001b[38;5;28mself\u001b[39m\u001b[38;5;241m.\u001b[39mget_parent(\u001b[38;5;124m\"\u001b[39m\u001b[38;5;124mshell\u001b[39m\u001b[38;5;124m\"\u001b[39m),\n\u001b[1;32m   1266\u001b[0m     password\u001b[38;5;241m=\u001b[39m\u001b[38;5;28;01mFalse\u001b[39;00m,\n\u001b[1;32m   1267\u001b[0m )\n",
      "File \u001b[0;32m~/anaconda3/lib/python3.11/site-packages/ipykernel/kernelbase.py:1305\u001b[0m, in \u001b[0;36mKernel._input_request\u001b[0;34m(self, prompt, ident, parent, password)\u001b[0m\n\u001b[1;32m   1302\u001b[0m \u001b[38;5;28;01mexcept\u001b[39;00m \u001b[38;5;167;01mKeyboardInterrupt\u001b[39;00m:\n\u001b[1;32m   1303\u001b[0m     \u001b[38;5;66;03m# re-raise KeyboardInterrupt, to truncate traceback\u001b[39;00m\n\u001b[1;32m   1304\u001b[0m     msg \u001b[38;5;241m=\u001b[39m \u001b[38;5;124m\"\u001b[39m\u001b[38;5;124mInterrupted by user\u001b[39m\u001b[38;5;124m\"\u001b[39m\n\u001b[0;32m-> 1305\u001b[0m     \u001b[38;5;28;01mraise\u001b[39;00m \u001b[38;5;167;01mKeyboardInterrupt\u001b[39;00m(msg) \u001b[38;5;28;01mfrom\u001b[39;00m \u001b[38;5;28;01mNone\u001b[39;00m\n\u001b[1;32m   1306\u001b[0m \u001b[38;5;28;01mexcept\u001b[39;00m \u001b[38;5;167;01mException\u001b[39;00m:\n\u001b[1;32m   1307\u001b[0m     \u001b[38;5;28mself\u001b[39m\u001b[38;5;241m.\u001b[39mlog\u001b[38;5;241m.\u001b[39mwarning(\u001b[38;5;124m\"\u001b[39m\u001b[38;5;124mInvalid Message:\u001b[39m\u001b[38;5;124m\"\u001b[39m, exc_info\u001b[38;5;241m=\u001b[39m\u001b[38;5;28;01mTrue\u001b[39;00m)\n",
      "\u001b[0;31mKeyboardInterrupt\u001b[0m: Interrupted by user"
     ]
    }
   ],
   "source": [
    "import random\n",
    "def ai(user_input):\n",
    "    response=[\n",
    "        \"Hello!\",\n",
    "        \"Hii! Nice to see you\",\n",
    "    ]\n",
    "while True:\n",
    "    print(\"Welcome\")\n",
    "    user_input=input(\"You :\").lower()\n",
    "    for i in any(response):\n",
    "        print(\"Hello\")\n",
    "\n",
    "if __name__==\"__main__\":\n",
    "    ai(user_input)\n",
    "    "
   ]
  },
  {
   "cell_type": "code",
   "execution_count": 4,
   "id": "b927602d-4b38-4fba-840e-243883f129d2",
   "metadata": {},
   "outputs": [
    {
     "name": "stdout",
     "output_type": "stream",
     "text": [
      "Hii! Nice to see you\n"
     ]
    }
   ],
   "source": [
    "import random\n",
    "response=[\n",
    "        \"Hello!\",\n",
    "        \"Hii! Nice to see you\",\n",
    "    ]\n",
    "print(random.choice(response))"
   ]
  },
  {
   "cell_type": "code",
   "execution_count": 22,
   "id": "5c40eb7f-21cb-4b55-bbe9-593565e348fb",
   "metadata": {},
   "outputs": [
    {
     "name": "stdout",
     "output_type": "stream",
     "text": [
      "[40, 20, 42, 10, 3, 60, 1]\n"
     ]
    }
   ],
   "source": [
    "def SelelctionSort(a):\n",
    "    n=len(a)\n",
    "    for i in range(-n):\n",
    "        min=i\n",
    "        for j in range(i+1,n-1):\n",
    "            if a[j]<a[min]:\n",
    "                min=j\n",
    "        temp=a[i]\n",
    "        a[i]=a[min]\n",
    "        a[min]=temp\n",
    "x=[40,20,42,10,3,60,1]\n",
    "SelelctionSort(x)\n",
    "print(x)\n",
    "                "
   ]
  },
  {
   "cell_type": "code",
   "execution_count": 49,
   "id": "b18b4442-29a9-4df4-a14b-d35f0c53d6f6",
   "metadata": {},
   "outputs": [
    {
     "name": "stdout",
     "output_type": "stream",
     "text": [
      "The element is not found\n"
     ]
    }
   ],
   "source": [
    "def LeanearSearch(a,key):\n",
    "    n=len(a)\n",
    "    for i in range(n):\n",
    "        if key==a[i]:\n",
    "            return i\n",
    "    return -1\n",
    "a=[10,20,30,40,50,60]\n",
    "key=603\n",
    "s=LeanearSearch(a,key)\n",
    "if s != -1:e\n",
    "    print(\"The key is found \")\n",
    "else :\n",
    "    print(\"The element is not found\")"
   ]
  },
  {
   "cell_type": "code",
   "execution_count": 5,
   "id": "b34ff252-3de0-43f4-8529-a2fcab3e25ef",
   "metadata": {},
   "outputs": [
    {
     "name": "stdout",
     "output_type": "stream",
     "text": [
      "[4, 4, 4, 7, 40]\n"
     ]
    }
   ],
   "source": [
    "def SelectionSort(a):\n",
    "    n=len(a)\n",
    "    for i in range(n):\n",
    "        min=i\n",
    "        for j in range(i+1,n-1):\n",
    "            if a[min]>a[j]:\n",
    "                min=j\n",
    "        temp=a[min]\n",
    "        a[i]=a[min]\n",
    "        a[min]=temp\n",
    "    \n",
    "a=[20,10,4,7,40]\n",
    "SelectionSort(a)\n",
    "print(a)"
   ]
  },
  {
   "cell_type": "code",
   "execution_count": 7,
   "id": "b1800be3-6f93-4db2-8391-b3d97e2d6cc2",
   "metadata": {},
   "outputs": [
    {
     "name": "stdout",
     "output_type": "stream",
     "text": [
      "[20, 10, 4, 7, 40]\n"
     ]
    }
   ],
   "source": [
    "def SS(a):\n",
    "    n=len(a)\n",
    "    for i in range(n):\n",
    "        min=i\n",
    "        for j in range(i+1,n):\n",
    "            if a[min]>a[j]:\n",
    "                min=j\n",
    "a=[20,10,4,7,40]\n",
    "SS(a)\n",
    "print(a)"
   ]
  },
  {
   "cell_type": "code",
   "execution_count": null,
   "id": "5f14078f-e498-4a5e-8520-806334a02da5",
   "metadata": {},
   "outputs": [],
   "source": []
  }
 ],
 "metadata": {
  "kernelspec": {
   "display_name": "Python 3 (ipykernel)",
   "language": "python",
   "name": "python3"
  },
  "language_info": {
   "codemirror_mode": {
    "name": "ipython",
    "version": 3
   },
   "file_extension": ".py",
   "mimetype": "text/x-python",
   "name": "python",
   "nbconvert_exporter": "python",
   "pygments_lexer": "ipython3",
   "version": "3.11.7"
  }
 },
 "nbformat": 4,
 "nbformat_minor": 5
}
