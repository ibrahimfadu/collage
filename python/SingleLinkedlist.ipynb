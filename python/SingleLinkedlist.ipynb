{
 "cells": [
  {
   "cell_type": "code",
   "execution_count": 16,
   "id": "97c66814-21f1-4441-85ef-1cce11c6ce35",
   "metadata": {},
   "outputs": [
    {
     "name": "stdout",
     "output_type": "stream",
     "text": [
      "38 30 \n",
      "The data removed is : 38\n",
      "30 "
     ]
    }
   ],
   "source": [
    "class Node:\n",
    "    def __init__(self,data=None):\n",
    "        self.data=data\n",
    "        self.next=None\n",
    "class SingleLinkedlist:\n",
    "    def __init__(self):\n",
    "        self.first=None\n",
    "    def insert(self,data):\n",
    "        temp=Node(data)\n",
    "        temp.next=self.first\n",
    "        self.first=temp\n",
    "    def display(self):\n",
    "        if self.first==None:\n",
    "            print(\"List is empty\")\n",
    "        else:\n",
    "            cur=self.first\n",
    "            while cur:\n",
    "                print(cur.data, end=\" \")\n",
    "                cur=cur.next\n",
    "    def delete(self):\n",
    "        if self.first==None:\n",
    "            print(\"List is empty\")\n",
    "        else:\n",
    "            cur=self.first\n",
    "            \n",
    "            print(\"\\nThe data removed is :\",cur.data)\n",
    "            self.first=self.first.next\n",
    "    def search(a,item):\n",
    "        if self.first==None:\n",
    "            print(\"List is Empty\")\n",
    "        else:\n",
    "            cur=self.first\n",
    "            while cur:\n",
    "                \n",
    "        \n",
    "s=SingleLinkedlist()\n",
    "s.insert(30)\n",
    "s.insert(38)\n",
    "s.display()\n",
    "s.delete()\n",
    "s.display()\n",
    "s.\n"
   ]
  }
 ],
 "metadata": {
  "kernelspec": {
   "display_name": "Python 3 (ipykernel)",
   "language": "python",
   "name": "python3"
  },
  "language_info": {
   "codemirror_mode": {
    "name": "ipython",
    "version": 3
   },
   "file_extension": ".py",
   "mimetype": "text/x-python",
   "name": "python",
   "nbconvert_exporter": "python",
   "pygments_lexer": "ipython3",
   "version": "3.11.7"
  }
 },
 "nbformat": 4,
 "nbformat_minor": 5
}
